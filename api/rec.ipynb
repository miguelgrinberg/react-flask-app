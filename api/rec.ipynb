{
 "cells": [
  {
   "cell_type": "markdown",
   "id": "ed05239c",
   "metadata": {},
   "source": [
    "# Movie Recommendation Algorithm\n",
    "\n",
    "As part of this task, you are expected follow the instructions below and create a movie recommendation to make your users happy :)"
   ]
  },
  {
   "cell_type": "markdown",
   "id": "c9275f19",
   "metadata": {},
   "source": [
    "### 1. We start off with the known dependencies we need\n",
    "\n",
    "Pandas is a must. Pandas is a powerful data analysis library built for Python users. It helps us manipulate complicated data in a user-friendly manner. \n",
    "\n",
    "You will understand soon the convenience of it and come to love it as much as we do."
   ]
  },
  {
   "cell_type": "code",
   "execution_count": 80,
   "id": "dd890892",
   "metadata": {},
   "outputs": [],
   "source": [
    "import pandas as pd # refer to pandas as pd\n",
    "import api"
   ]
  },
  {
   "cell_type": "markdown",
   "id": "cae9c846",
   "metadata": {},
   "source": [
    "### 2. Then we need to get our movies dataset\n",
    "\n",
    "The dataset includes thousands of movies and detailed information for each one of them. Let's see how it looks like shall we? \n"
   ]
  },
  {
   "cell_type": "code",
   "execution_count": 81,
   "id": "e6234625",
   "metadata": {},
   "outputs": [
    {
     "data": {
      "text/plain": [
       "Index(['Unnamed: 0', 'adult', 'backdrop_path', 'budget', 'genres', 'homepage',\n",
       "       'id', 'imdb_id', 'original_language', 'original_title', 'overview',\n",
       "       'popularity', 'poster_path', 'production_companies',\n",
       "       'production_countries', 'release_date', 'revenue', 'runtime',\n",
       "       'spoken_languages', 'status', 'tagline', 'title', 'video',\n",
       "       'vote_average', 'vote_count', 'Unnamed: 25'],\n",
       "      dtype='object')"
      ]
     },
     "execution_count": 81,
     "metadata": {},
     "output_type": "execute_result"
    }
   ],
   "source": [
    "path = \"./data/dataset2.csv\"\n",
    "df = pd.read_csv(path) # df stands for Data Frame\n",
    "df.columns\n",
    "#df.head(10) #uncomment to see how horrible the dataset looks\n",
    "    \n"
   ]
  },
  {
   "cell_type": "markdown",
   "id": "38342e06",
   "metadata": {},
   "source": [
    "As you can see, the dataset doesn't look very pretty, does it? That's why we need Pandas to get exactly what we need from the dataset. We need the following three columns from the dataset:\n",
    "* title\n",
    "* imdbID\n",
    "* overview\n",
    "\n",
    "Try running the code block below to see how to get your desired columns from a dataset."
   ]
  },
  {
   "cell_type": "code",
   "execution_count": 82,
   "id": "dbad43be",
   "metadata": {},
   "outputs": [
    {
     "data": {
      "text/html": [
       "<div>\n",
       "<style scoped>\n",
       "    .dataframe tbody tr th:only-of-type {\n",
       "        vertical-align: middle;\n",
       "    }\n",
       "\n",
       "    .dataframe tbody tr th {\n",
       "        vertical-align: top;\n",
       "    }\n",
       "\n",
       "    .dataframe thead th {\n",
       "        text-align: right;\n",
       "    }\n",
       "</style>\n",
       "<table border=\"1\" class=\"dataframe\">\n",
       "  <thead>\n",
       "    <tr style=\"text-align: right;\">\n",
       "      <th></th>\n",
       "      <th>title</th>\n",
       "      <th>imdb_id</th>\n",
       "      <th>overview</th>\n",
       "    </tr>\n",
       "  </thead>\n",
       "  <tbody>\n",
       "    <tr>\n",
       "      <th>0</th>\n",
       "      <td>Blondie</td>\n",
       "      <td>tt0029927</td>\n",
       "      <td>Blondie and Dagwood are about to celebrate the...</td>\n",
       "    </tr>\n",
       "    <tr>\n",
       "      <th>1</th>\n",
       "      <td>Peter Voss, Thief of Millions</td>\n",
       "      <td>tt0011436</td>\n",
       "      <td>NaN</td>\n",
       "    </tr>\n",
       "    <tr>\n",
       "      <th>2</th>\n",
       "      <td>Love at Twenty</td>\n",
       "      <td>tt0055747</td>\n",
       "      <td>Love at Twenty unites five directors from five...</td>\n",
       "    </tr>\n",
       "    <tr>\n",
       "      <th>3</th>\n",
       "      <td>New World Disorder 9: Never Enough</td>\n",
       "      <td>NaN</td>\n",
       "      <td>Gee Atherton ripping the Worlds course the day...</td>\n",
       "    </tr>\n",
       "    <tr>\n",
       "      <th>4</th>\n",
       "      <td>Sesame Street: Elmo Loves You!</td>\n",
       "      <td>tt1656746</td>\n",
       "      <td>Elmo is making a very, very super special surp...</td>\n",
       "    </tr>\n",
       "    <tr>\n",
       "      <th>...</th>\n",
       "      <td>...</td>\n",
       "      <td>...</td>\n",
       "      <td>...</td>\n",
       "    </tr>\n",
       "    <tr>\n",
       "      <th>1515</th>\n",
       "      <td>Geliebte weiße Maus</td>\n",
       "      <td>tt0058134</td>\n",
       "      <td>„White mouse“ Fritz controls the traffic on Dr...</td>\n",
       "    </tr>\n",
       "    <tr>\n",
       "      <th>1516</th>\n",
       "      <td>Attack of the Killer Tomatoes!</td>\n",
       "      <td>tt0080391</td>\n",
       "      <td>Attack of the Killer Tomatoes is a 1978 comedy...</td>\n",
       "    </tr>\n",
       "    <tr>\n",
       "      <th>1517</th>\n",
       "      <td>Hindenburg Disaster: Probable Cause</td>\n",
       "      <td>tt0418729</td>\n",
       "      <td>NaN</td>\n",
       "    </tr>\n",
       "    <tr>\n",
       "      <th>1518</th>\n",
       "      <td>Maus und Katz</td>\n",
       "      <td>tt0107532</td>\n",
       "      <td>NaN</td>\n",
       "    </tr>\n",
       "    <tr>\n",
       "      <th>1519</th>\n",
       "      <td>Big Trouble</td>\n",
       "      <td>tt0246464</td>\n",
       "      <td>The story of how a mysterious suitcase brings ...</td>\n",
       "    </tr>\n",
       "  </tbody>\n",
       "</table>\n",
       "<p>1520 rows × 3 columns</p>\n",
       "</div>"
      ],
      "text/plain": [
       "                                    title    imdb_id  \\\n",
       "0                                 Blondie  tt0029927   \n",
       "1           Peter Voss, Thief of Millions  tt0011436   \n",
       "2                          Love at Twenty  tt0055747   \n",
       "3      New World Disorder 9: Never Enough        NaN   \n",
       "4          Sesame Street: Elmo Loves You!  tt1656746   \n",
       "...                                   ...        ...   \n",
       "1515                  Geliebte weiße Maus  tt0058134   \n",
       "1516       Attack of the Killer Tomatoes!  tt0080391   \n",
       "1517  Hindenburg Disaster: Probable Cause  tt0418729   \n",
       "1518                        Maus und Katz  tt0107532   \n",
       "1519                          Big Trouble  tt0246464   \n",
       "\n",
       "                                               overview  \n",
       "0     Blondie and Dagwood are about to celebrate the...  \n",
       "1                                                   NaN  \n",
       "2     Love at Twenty unites five directors from five...  \n",
       "3     Gee Atherton ripping the Worlds course the day...  \n",
       "4     Elmo is making a very, very super special surp...  \n",
       "...                                                 ...  \n",
       "1515  „White mouse“ Fritz controls the traffic on Dr...  \n",
       "1516  Attack of the Killer Tomatoes is a 1978 comedy...  \n",
       "1517                                                NaN  \n",
       "1518                                                NaN  \n",
       "1519  The story of how a mysterious suitcase brings ...  \n",
       "\n",
       "[1520 rows x 3 columns]"
      ]
     },
     "execution_count": 82,
     "metadata": {},
     "output_type": "execute_result"
    }
   ],
   "source": [
    "df[['title', 'imdb_id', 'overview']]    \n",
    "    "
   ]
  },
  {
   "cell_type": "markdown",
   "id": "78acd667",
   "metadata": {},
   "source": [
    "Let's create a function that returns the **title**, **imdbID** and **overview** of all the movies in the dataset."
   ]
  },
  {
   "cell_type": "code",
   "execution_count": 83,
   "id": "70cb0e9a",
   "metadata": {},
   "outputs": [
    {
     "data": {
      "text/html": [
       "<div>\n",
       "<style scoped>\n",
       "    .dataframe tbody tr th:only-of-type {\n",
       "        vertical-align: middle;\n",
       "    }\n",
       "\n",
       "    .dataframe tbody tr th {\n",
       "        vertical-align: top;\n",
       "    }\n",
       "\n",
       "    .dataframe thead th {\n",
       "        text-align: right;\n",
       "    }\n",
       "</style>\n",
       "<table border=\"1\" class=\"dataframe\">\n",
       "  <thead>\n",
       "    <tr style=\"text-align: right;\">\n",
       "      <th></th>\n",
       "      <th>title</th>\n",
       "      <th>imdb_id</th>\n",
       "      <th>overview</th>\n",
       "    </tr>\n",
       "  </thead>\n",
       "  <tbody>\n",
       "    <tr>\n",
       "      <th>0</th>\n",
       "      <td>Blondie</td>\n",
       "      <td>tt0029927</td>\n",
       "      <td>Blondie and Dagwood are about to celebrate the...</td>\n",
       "    </tr>\n",
       "    <tr>\n",
       "      <th>1</th>\n",
       "      <td>Peter Voss, Thief of Millions</td>\n",
       "      <td>tt0011436</td>\n",
       "      <td></td>\n",
       "    </tr>\n",
       "    <tr>\n",
       "      <th>2</th>\n",
       "      <td>Love at Twenty</td>\n",
       "      <td>tt0055747</td>\n",
       "      <td>Love at Twenty unites five directors from five...</td>\n",
       "    </tr>\n",
       "    <tr>\n",
       "      <th>3</th>\n",
       "      <td>New World Disorder 9: Never Enough</td>\n",
       "      <td>NaN</td>\n",
       "      <td>Gee Atherton ripping the Worlds course the day...</td>\n",
       "    </tr>\n",
       "    <tr>\n",
       "      <th>4</th>\n",
       "      <td>Sesame Street: Elmo Loves You!</td>\n",
       "      <td>tt1656746</td>\n",
       "      <td>Elmo is making a very, very super special surp...</td>\n",
       "    </tr>\n",
       "  </tbody>\n",
       "</table>\n",
       "</div>"
      ],
      "text/plain": [
       "                                title    imdb_id  \\\n",
       "0                             Blondie  tt0029927   \n",
       "1       Peter Voss, Thief of Millions  tt0011436   \n",
       "2                      Love at Twenty  tt0055747   \n",
       "3  New World Disorder 9: Never Enough        NaN   \n",
       "4      Sesame Street: Elmo Loves You!  tt1656746   \n",
       "\n",
       "                                            overview  \n",
       "0  Blondie and Dagwood are about to celebrate the...  \n",
       "1                                                     \n",
       "2  Love at Twenty unites five directors from five...  \n",
       "3  Gee Atherton ripping the Worlds course the day...  \n",
       "4  Elmo is making a very, very super special surp...  "
      ]
     },
     "execution_count": 83,
     "metadata": {},
     "output_type": "execute_result"
    }
   ],
   "source": [
    "def get_dataset():\n",
    "    path = \"./data/dataset2.csv\"\n",
    "    df = pd.read_csv(path)\n",
    "    df = df[['title', 'imdb_id', 'overview']]\n",
    "    df['overview'] = df['overview'].fillna('')\n",
    "    return df\n",
    "\n",
    "df = get_dataset()\n",
    "df.head(5)"
   ]
  },
  {
   "cell_type": "markdown",
   "id": "ac86fc0a",
   "metadata": {},
   "source": [
    "### 3. It's time to process our user's request\n",
    "\n",
    "Our users have requested a feature where when they add a new movie to their favourites, they would like to get 2 new movie recommendations. You have already prepared the frontend and the backend for this task. All there is left is to:\n",
    "* Get the movie plot from OMDB API using the IMDB ID of the movie\n",
    "* Add the details to our dataset \n",
    "* If it already exists in the dataset, remove duplicates\n",
    "\n",
    "#### 3.1 We will make use of the new API endpoint we created to get movie details by IMDB ID. Run the code block below and test it out!"
   ]
  },
  {
   "cell_type": "code",
   "execution_count": 84,
   "id": "963d733f",
   "metadata": {},
   "outputs": [
    {
     "data": {
      "text/html": [
       "<div>\n",
       "<style scoped>\n",
       "    .dataframe tbody tr th:only-of-type {\n",
       "        vertical-align: middle;\n",
       "    }\n",
       "\n",
       "    .dataframe tbody tr th {\n",
       "        vertical-align: top;\n",
       "    }\n",
       "\n",
       "    .dataframe thead th {\n",
       "        text-align: right;\n",
       "    }\n",
       "</style>\n",
       "<table border=\"1\" class=\"dataframe\">\n",
       "  <thead>\n",
       "    <tr style=\"text-align: right;\">\n",
       "      <th></th>\n",
       "      <th>Title</th>\n",
       "      <th>Year</th>\n",
       "      <th>Rated</th>\n",
       "      <th>Released</th>\n",
       "      <th>Runtime</th>\n",
       "      <th>Genre</th>\n",
       "      <th>Director</th>\n",
       "      <th>Writer</th>\n",
       "      <th>Actors</th>\n",
       "      <th>Plot</th>\n",
       "      <th>...</th>\n",
       "      <th>Metascore</th>\n",
       "      <th>imdbRating</th>\n",
       "      <th>imdbVotes</th>\n",
       "      <th>imdbID</th>\n",
       "      <th>Type</th>\n",
       "      <th>DVD</th>\n",
       "      <th>BoxOffice</th>\n",
       "      <th>Production</th>\n",
       "      <th>Website</th>\n",
       "      <th>Response</th>\n",
       "    </tr>\n",
       "  </thead>\n",
       "  <tbody>\n",
       "    <tr>\n",
       "      <th>0</th>\n",
       "      <td>Blondie</td>\n",
       "      <td>1938</td>\n",
       "      <td>Passed</td>\n",
       "      <td>30 Nov 1938</td>\n",
       "      <td>70 min</td>\n",
       "      <td>Comedy, Family</td>\n",
       "      <td>Frank R. Strayer</td>\n",
       "      <td>Richard Flournoy, Chic Young</td>\n",
       "      <td>Penny Singleton, Arthur Lake, Larry Simms</td>\n",
       "      <td>Dagwood loses his job on the eve of his and Bl...</td>\n",
       "      <td>...</td>\n",
       "      <td>N/A</td>\n",
       "      <td>6.9</td>\n",
       "      <td>793</td>\n",
       "      <td>tt0029927</td>\n",
       "      <td>movie</td>\n",
       "      <td>N/A</td>\n",
       "      <td>N/A</td>\n",
       "      <td>N/A</td>\n",
       "      <td>N/A</td>\n",
       "      <td>True</td>\n",
       "    </tr>\n",
       "  </tbody>\n",
       "</table>\n",
       "<p>1 rows × 25 columns</p>\n",
       "</div>"
      ],
      "text/plain": [
       "     Title  Year   Rated     Released Runtime           Genre  \\\n",
       "0  Blondie  1938  Passed  30 Nov 1938  70 min  Comedy, Family   \n",
       "\n",
       "           Director                        Writer  \\\n",
       "0  Frank R. Strayer  Richard Flournoy, Chic Young   \n",
       "\n",
       "                                      Actors  \\\n",
       "0  Penny Singleton, Arthur Lake, Larry Simms   \n",
       "\n",
       "                                                Plot  ... Metascore  \\\n",
       "0  Dagwood loses his job on the eve of his and Bl...  ...       N/A   \n",
       "\n",
       "  imdbRating imdbVotes     imdbID   Type  DVD BoxOffice Production Website  \\\n",
       "0        6.9       793  tt0029927  movie  N/A       N/A        N/A     N/A   \n",
       "\n",
       "  Response  \n",
       "0     True  \n",
       "\n",
       "[1 rows x 25 columns]"
      ]
     },
     "execution_count": 84,
     "metadata": {},
     "output_type": "execute_result"
    }
   ],
   "source": [
    "response = api.get_movies_by_id(\"tt0029927\") # get \n",
    "response = pd.json_normalize(response) # normalize JSON data into a flat table\n",
    "response"
   ]
  },
  {
   "cell_type": "markdown",
   "id": "98d81d55",
   "metadata": {},
   "source": [
    "So it works! But as you can see the column names do not match with the ones that the dataset has for the same information... \n",
    "\n",
    "| column info | column name in dataset | column name in API response |\n",
    "| --- | --- | --- |\n",
    "|Title |title|Title|\n",
    "|IMDB ID|imdb_id| imdbID|\n",
    "|Overview | overview| Plot |"
   ]
  },
  {
   "cell_type": "markdown",
   "id": "8a2dec62",
   "metadata": {},
   "source": [
    "##### 3.2 Let's create a function that adds the neccessary details of the favourited movie to the dataset\n",
    "\n",
    "Important points to consider:\n",
    "* Function should take an IMDB ID as an input\n",
    "* There shouldn't be any duplicates in the dataset\n",
    "* The column names should match\n",
    "* Function should return the updated dataframe"
   ]
  },
  {
   "cell_type": "code",
   "execution_count": 85,
   "id": "1f233e6f",
   "metadata": {},
   "outputs": [],
   "source": [
    "# Write your code here    \n"
   ]
  },
  {
   "cell_type": "markdown",
   "id": "d2b4bd28",
   "metadata": {},
   "source": [
    "### 4. Create the recommendation algorithm\n",
    "\n",
    "We will be focusing on the plot of the movies and use NLP (Natural Language Processing) to find similarities between the plot of the favourited movie and all the other movie plots in our database.\n",
    "\n",
    "First, we need to import the necessary Python machine learning libraries that we can use to complete the task. \n",
    "\n",
    "Scikit-learn (full name for sklearn) is a machine learning library for Python programming. It includes simple and efficient tools for predictive data analysis. [Check here for more](https://scikit-learn.org/stable/index.html).\n",
    "\n",
    "We will use one of it's functionalities that allows us to perform data analysis on text. We will compute pairwise similarity scores for all movies based on their plot descriptions and recommend movies based on that similarity score."
   ]
  },
  {
   "cell_type": "code",
   "execution_count": 86,
   "id": "4db13364",
   "metadata": {},
   "outputs": [],
   "source": [
    "from sklearn.feature_extraction.text import TfidfVectorizer\n",
    "from sklearn.metrics.pairwise import linear_kernel\n"
   ]
  },
  {
   "cell_type": "markdown",
   "id": "4007af98",
   "metadata": {},
   "source": [
    "Now if you are wondering how we will achieve that, one way of doing it is to create a Term Frequency-Inverse Document Frequency (TF-IDF) matrix... \n",
    "\n",
    "In human words, **TF (Term Frequency)** is the relative frequency of a word in a document and is given as (term instances/total instances). \n",
    "\n",
    "**IDF (Inverse Document Frequency)** is the relative count of documents containing the term is given as log(number of documents/documents with term).\n",
    "\n",
    "The overall importance of each word to the documents in which they appear is equal to **TF * IDF**.\n",
    "\n",
    "This will give you a matrix where each column represents a word in the overview vocabulary (all the words that appear in at least one document) and each row represents a movie, as before.This is done to reduce the importance of words that occur frequently in plot overviews and therefore, their significance in computing the final similarity score."
   ]
  },
  {
   "cell_type": "code",
   "execution_count": 87,
   "id": "a6bda8ac",
   "metadata": {},
   "outputs": [
    {
     "data": {
      "text/plain": [
       "(1517, 11038)"
      ]
     },
     "execution_count": 87,
     "metadata": {},
     "output_type": "execute_result"
    }
   ],
   "source": [
    "df = add_plot(\"tt0029927\")\n",
    "\n",
    "# Define a TF-IDF Vectorizer Object. Remove all english stop words such as 'the', 'a'\n",
    "tfidf = TfidfVectorizer(stop_words='english')\n",
    "\n",
    "# Construct the required TF-IDF matrix by fitting and transforming the data\n",
    "tfidf_matrix = tfidf.fit_transform(df['overview'])\n",
    "\n",
    "# Output the shape of tfidf_matrix\n",
    "tfidf_matrix.shape"
   ]
  },
  {
   "cell_type": "markdown",
   "id": "88351959",
   "metadata": {},
   "source": [
    "We see that over 11,000 different words were used to describe the 1517 movies in our dataset. Now we can go ahead and calculate the cosine similarity score using or matrix and **linear_kernel()** functionality from the Scikit-learn library.\n",
    "\n",
    "One explanation of a kernel is as follows: \n",
    "\n",
    "> a collection of distinct forms of pattern analysis algorithms, using a linear classifier, they solve an existing non-linear problem\n",
    "\n",
    "So we will use a linear kernel to classify movies as similar or not."
   ]
  },
  {
   "cell_type": "code",
   "execution_count": 88,
   "id": "0d768dfb",
   "metadata": {},
   "outputs": [],
   "source": [
    "# Similarity scores between all movies in the dataset\n",
    "sim = linear_kernel(tfidf_matrix, tfidf_matrix)\n",
    "\n",
    "# We create a new Series where the index is the IMDB IDs and the values are the actual indices from the original dataframe\n",
    "indices = pd.Series(df.index, index=df['imdb_id'])\n",
    "\n",
    "# Let's try getting the index of one movie with its IMDB ID\n",
    "idx = indices[\"tt0029927\"]\n",
    "\n",
    "# Get the pairwsie similarity scores of all movies with that movie\n",
    "sim_scores = list(enumerate(sim[idx]))\n",
    "\n",
    "# Sort the movies based on the similarity scores\n",
    "sim_scores = sorted(sim_scores, key=lambda x: x[1], reverse=True)\n",
    "\n",
    "# Get the scores of the 2 most similar movies\n",
    "sim_scores = sim_scores[1:3]\n",
    "\n",
    "# Get the movie indices\n",
    "movie_indices = [i[0] for i in sim_scores]\n"
   ]
  },
  {
   "cell_type": "markdown",
   "id": "7f33987d",
   "metadata": {},
   "source": [
    "#### Final Challenge\n",
    "\n",
    "Create a function that takes an IMDB ID as an input and returns the IMDB IDs of the recommended two movies and display the output."
   ]
  },
  {
   "cell_type": "code",
   "execution_count": 89,
   "id": "c890c8cf",
   "metadata": {},
   "outputs": [
    {
     "name": "stdout",
     "output_type": "stream",
     "text": [
      "[1304, 296]\n"
     ]
    },
    {
     "data": {
      "text/plain": [
       "['tt0044357', 'tt0428430']"
      ]
     },
     "execution_count": 89,
     "metadata": {},
     "output_type": "execute_result"
    }
   ],
   "source": [
    "# Write your code here\n"
   ]
  },
  {
   "cell_type": "markdown",
   "id": "88856b01",
   "metadata": {},
   "source": [
    "Now let's move all the functions you created to the recommend.py file. Functions to move:\n",
    "* get_dataset()\n",
    "* add_plot()\n",
    "* get_recommendation()"
   ]
  }
 ],
 "metadata": {
  "kernelspec": {
   "display_name": "Python 3 (ipykernel)",
   "language": "python",
   "name": "python3"
  },
  "language_info": {
   "codemirror_mode": {
    "name": "ipython",
    "version": 3
   },
   "file_extension": ".py",
   "mimetype": "text/x-python",
   "name": "python",
   "nbconvert_exporter": "python",
   "pygments_lexer": "ipython3",
   "version": "3.9.6"
  }
 },
 "nbformat": 4,
 "nbformat_minor": 5
}
